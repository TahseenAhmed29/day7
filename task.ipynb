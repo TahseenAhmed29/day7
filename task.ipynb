{
 "cells": [
  {
   "cell_type": "markdown",
   "metadata": {},
   "source": []
  },
  {
   "cell_type": "markdown",
   "metadata": {},
   "source": []
  },
  {
   "cell_type": "markdown",
   "metadata": {},
   "source": [
    "# participate\n",
    "\n",
    "title =\"student\"\n",
    "\n",
    "name = \"tasheen\"\n",
    "\n",
    "email =\"tasheenjatt787@gmail.com\"\n",
    "\n",
    "watspp= +92**********"
   ]
  }
 ],
 "metadata": {
  "language_info": {
   "name": "python"
  },
  "orig_nbformat": 4
 },
 "nbformat": 4,
 "nbformat_minor": 2
}
